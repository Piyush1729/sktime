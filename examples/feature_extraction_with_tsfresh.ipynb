{
 "cells": [
  {
   "cell_type": "markdown",
   "metadata": {},
   "source": [
    "# Feature extraction with tsfresh transformer\n",
    "\n",
    "In this tutorial, we show how you can use sktime with [tsfresh](https://tsfresh.readthedocs.io) to first extract features from time series, so that we can then use any scikit-learn estimator.\n",
    "\n",
    "## Preliminaries\n",
    "You have to install tsfresh if you haven't already. To install it, uncomment the cell below:"
   ]
  },
  {
   "cell_type": "code",
   "execution_count": 1,
   "metadata": {},
   "outputs": [],
   "source": [
    "# !pip install --upgrade tsfresh"
   ]
  },
  {
   "cell_type": "code",
   "execution_count": 2,
   "metadata": {},
   "outputs": [],
   "source": [
    "import numpy as np\n",
    "from sklearn.model_selection import train_test_split\n",
    "from sklearn.ensemble import RandomForestClassifier\n",
    "from sklearn.pipeline import make_pipeline\n",
    "from sktime.datasets import load_basic_motions\n",
    "from sktime.datasets import load_arrow_head\n",
    "from sktime.transformers.series_as_features.summarize import \\\n",
    "    TSFreshFeatureExtractor"
   ]
  },
  {
   "cell_type": "markdown",
   "metadata": {},
   "source": [
    "## Univariate time series classification data\n",
    "\n",
    "For more details on the data set, see the [univariate time series classification notebook](https://github.com/alan-turing-institute/sktime/blob/master/examples/02_classification_univariate.ipynb)."
   ]
  },
  {
   "cell_type": "code",
   "execution_count": 3,
   "metadata": {},
   "outputs": [
    {
     "name": "stdout",
     "output_type": "stream",
     "text": [
      "(158, 1) (158,) (53, 1) (53,)\n"
     ]
    }
   ],
   "source": [
    "X, y = load_arrow_head(return_X_y=True)\n",
    "X_train, X_test, y_train, y_test = train_test_split(X, y)\n",
    "print(X_train.shape, y_train.shape, X_test.shape, y_test.shape)"
   ]
  },
  {
   "cell_type": "code",
   "execution_count": 4,
   "metadata": {
    "jupyter": {
     "outputs_hidden": false
    },
    "pycharm": {
     "name": "#%%\n"
    }
   },
   "outputs": [
    {
     "data": {
      "text/html": [
       "<div>\n",
       "<style scoped>\n",
       "    .dataframe tbody tr th:only-of-type {\n",
       "        vertical-align: middle;\n",
       "    }\n",
       "\n",
       "    .dataframe tbody tr th {\n",
       "        vertical-align: top;\n",
       "    }\n",
       "\n",
       "    .dataframe thead th {\n",
       "        text-align: right;\n",
       "    }\n",
       "</style>\n",
       "<table border=\"1\" class=\"dataframe\">\n",
       "  <thead>\n",
       "    <tr style=\"text-align: right;\">\n",
       "      <th></th>\n",
       "      <th>dim_0</th>\n",
       "    </tr>\n",
       "  </thead>\n",
       "  <tbody>\n",
       "    <tr>\n",
       "      <th>23</th>\n",
       "      <td>0     -2.1597\n",
       "1     -2.1756\n",
       "2     -2.1656\n",
       "3   ...</td>\n",
       "    </tr>\n",
       "    <tr>\n",
       "      <th>168</th>\n",
       "      <td>0     -1.5317\n",
       "1     -1.5413\n",
       "2     -1.5150\n",
       "3   ...</td>\n",
       "    </tr>\n",
       "    <tr>\n",
       "      <th>35</th>\n",
       "      <td>0     -1.8010\n",
       "1     -1.7989\n",
       "2     -1.7784\n",
       "3   ...</td>\n",
       "    </tr>\n",
       "    <tr>\n",
       "      <th>7</th>\n",
       "      <td>0     -1.8234\n",
       "1     -1.8055\n",
       "2     -1.7932\n",
       "3   ...</td>\n",
       "    </tr>\n",
       "    <tr>\n",
       "      <th>79</th>\n",
       "      <td>0     -2.0399\n",
       "1     -2.0382\n",
       "2     -2.0384\n",
       "3   ...</td>\n",
       "    </tr>\n",
       "  </tbody>\n",
       "</table>\n",
       "</div>"
      ],
      "text/plain": [
       "                                                 dim_0\n",
       "23   0     -2.1597\n",
       "1     -2.1756\n",
       "2     -2.1656\n",
       "3   ...\n",
       "168  0     -1.5317\n",
       "1     -1.5413\n",
       "2     -1.5150\n",
       "3   ...\n",
       "35   0     -1.8010\n",
       "1     -1.7989\n",
       "2     -1.7784\n",
       "3   ...\n",
       "7    0     -1.8234\n",
       "1     -1.8055\n",
       "2     -1.7932\n",
       "3   ...\n",
       "79   0     -2.0399\n",
       "1     -2.0382\n",
       "2     -2.0384\n",
       "3   ..."
      ]
     },
     "execution_count": 4,
     "metadata": {},
     "output_type": "execute_result"
    }
   ],
   "source": [
    "X_train.head()"
   ]
  },
  {
   "cell_type": "code",
   "execution_count": 5,
   "metadata": {},
   "outputs": [
    {
     "data": {
      "text/plain": [
       "array(['0', '1', '2'], dtype=object)"
      ]
     },
     "execution_count": 5,
     "metadata": {},
     "output_type": "execute_result"
    }
   ],
   "source": [
    "# binary classification task\n",
    "np.unique(y_train)"
   ]
  },
  {
   "cell_type": "markdown",
   "metadata": {},
   "source": [
    "## Using tsfresh to extract features"
   ]
  },
  {
   "cell_type": "code",
   "execution_count": 6,
   "metadata": {},
   "outputs": [
    {
     "name": "stderr",
     "output_type": "stream",
     "text": [
      "/Users/travis/build/alan-turing-institute/sktime/sktime/transformers/series_as_features/summarize/_tsfresh.py:150: UserWarning: Found non-unique index, replaced with unique index.\n",
      "  warn(\"Found non-unique index, replaced with unique index.\")\n"
     ]
    },
    {
     "name": "stderr",
     "output_type": "stream",
     "text": [
      "\r",
      "Feature Extraction:   0%|          | 0/5 [00:00<?, ?it/s]"
     ]
    },
    {
     "name": "stderr",
     "output_type": "stream",
     "text": [
      "\r",
      "Feature Extraction:  20%|██        | 1/5 [00:04<00:18,  4.54s/it]"
     ]
    },
    {
     "name": "stderr",
     "output_type": "stream",
     "text": [
      "\r",
      "Feature Extraction:  40%|████      | 2/5 [00:08<00:13,  4.51s/it]"
     ]
    },
    {
     "name": "stderr",
     "output_type": "stream",
     "text": [
      "\r",
      "Feature Extraction:  60%|██████    | 3/5 [00:13<00:08,  4.48s/it]"
     ]
    },
    {
     "name": "stderr",
     "output_type": "stream",
     "text": [
      "\r",
      "Feature Extraction:  80%|████████  | 4/5 [00:17<00:04,  4.46s/it]"
     ]
    },
    {
     "name": "stderr",
     "output_type": "stream",
     "text": [
      "\r",
      "Feature Extraction: 100%|██████████| 5/5 [00:21<00:00,  4.38s/it]"
     ]
    },
    {
     "name": "stderr",
     "output_type": "stream",
     "text": [
      "\r",
      "Feature Extraction: 100%|██████████| 5/5 [00:21<00:00,  4.40s/it]"
     ]
    },
    {
     "name": "stderr",
     "output_type": "stream",
     "text": [
      "\n"
     ]
    },
    {
     "data": {
      "text/html": [
       "<div>\n",
       "<style scoped>\n",
       "    .dataframe tbody tr th:only-of-type {\n",
       "        vertical-align: middle;\n",
       "    }\n",
       "\n",
       "    .dataframe tbody tr th {\n",
       "        vertical-align: top;\n",
       "    }\n",
       "\n",
       "    .dataframe thead th {\n",
       "        text-align: right;\n",
       "    }\n",
       "</style>\n",
       "<table border=\"1\" class=\"dataframe\">\n",
       "  <thead>\n",
       "    <tr style=\"text-align: right;\">\n",
       "      <th>variable</th>\n",
       "      <th>dim_0__abs_energy</th>\n",
       "      <th>dim_0__absolute_sum_of_changes</th>\n",
       "      <th>dim_0__agg_autocorrelation__f_agg_\"mean\"__maxlag_40</th>\n",
       "      <th>dim_0__agg_autocorrelation__f_agg_\"median\"__maxlag_40</th>\n",
       "      <th>dim_0__agg_autocorrelation__f_agg_\"var\"__maxlag_40</th>\n",
       "      <th>dim_0__agg_linear_trend__attr_\"intercept\"__chunk_len_10__f_agg_\"max\"</th>\n",
       "      <th>dim_0__agg_linear_trend__attr_\"intercept\"__chunk_len_10__f_agg_\"mean\"</th>\n",
       "      <th>dim_0__agg_linear_trend__attr_\"intercept\"__chunk_len_10__f_agg_\"min\"</th>\n",
       "      <th>dim_0__agg_linear_trend__attr_\"intercept\"__chunk_len_10__f_agg_\"var\"</th>\n",
       "      <th>dim_0__agg_linear_trend__attr_\"intercept\"__chunk_len_50__f_agg_\"max\"</th>\n",
       "      <th>...</th>\n",
       "      <th>dim_0__symmetry_looking__r_0.9500000000000001</th>\n",
       "      <th>dim_0__time_reversal_asymmetry_statistic__lag_1</th>\n",
       "      <th>dim_0__time_reversal_asymmetry_statistic__lag_2</th>\n",
       "      <th>dim_0__time_reversal_asymmetry_statistic__lag_3</th>\n",
       "      <th>dim_0__value_count__value_-1</th>\n",
       "      <th>dim_0__value_count__value_0</th>\n",
       "      <th>dim_0__value_count__value_1</th>\n",
       "      <th>dim_0__variance</th>\n",
       "      <th>dim_0__variance_larger_than_standard_deviation</th>\n",
       "      <th>dim_0__variation_coefficient</th>\n",
       "    </tr>\n",
       "  </thead>\n",
       "  <tbody>\n",
       "    <tr>\n",
       "      <th>0</th>\n",
       "      <td>249.999359</td>\n",
       "      <td>100.008588</td>\n",
       "      <td>0.166741</td>\n",
       "      <td>0.109416</td>\n",
       "      <td>0.066250</td>\n",
       "      <td>0.442363</td>\n",
       "      <td>-0.117070</td>\n",
       "      <td>-1.566576</td>\n",
       "      <td>0.370308</td>\n",
       "      <td>1.481666</td>\n",
       "      <td>...</td>\n",
       "      <td>1.0</td>\n",
       "      <td>0.065662</td>\n",
       "      <td>0.024915</td>\n",
       "      <td>0.002205</td>\n",
       "      <td>0.0</td>\n",
       "      <td>0.0</td>\n",
       "      <td>0.0</td>\n",
       "      <td>0.996013</td>\n",
       "      <td>0.0</td>\n",
       "      <td>-4.106544e+06</td>\n",
       "    </tr>\n",
       "    <tr>\n",
       "      <th>1</th>\n",
       "      <td>250.000137</td>\n",
       "      <td>74.267442</td>\n",
       "      <td>0.377671</td>\n",
       "      <td>0.444606</td>\n",
       "      <td>0.092169</td>\n",
       "      <td>-0.226793</td>\n",
       "      <td>-0.669387</td>\n",
       "      <td>-1.186474</td>\n",
       "      <td>0.095314</td>\n",
       "      <td>0.709578</td>\n",
       "      <td>...</td>\n",
       "      <td>1.0</td>\n",
       "      <td>0.027791</td>\n",
       "      <td>0.004080</td>\n",
       "      <td>-0.010069</td>\n",
       "      <td>0.0</td>\n",
       "      <td>0.0</td>\n",
       "      <td>0.0</td>\n",
       "      <td>0.996016</td>\n",
       "      <td>0.0</td>\n",
       "      <td>1.278059e+06</td>\n",
       "    </tr>\n",
       "    <tr>\n",
       "      <th>2</th>\n",
       "      <td>249.999836</td>\n",
       "      <td>77.691848</td>\n",
       "      <td>0.319336</td>\n",
       "      <td>0.359802</td>\n",
       "      <td>0.082387</td>\n",
       "      <td>-0.355620</td>\n",
       "      <td>-0.623975</td>\n",
       "      <td>-1.075446</td>\n",
       "      <td>0.080361</td>\n",
       "      <td>0.643640</td>\n",
       "      <td>...</td>\n",
       "      <td>1.0</td>\n",
       "      <td>0.048628</td>\n",
       "      <td>0.007067</td>\n",
       "      <td>-0.012443</td>\n",
       "      <td>0.0</td>\n",
       "      <td>0.0</td>\n",
       "      <td>0.0</td>\n",
       "      <td>0.996015</td>\n",
       "      <td>0.0</td>\n",
       "      <td>6.919873e+05</td>\n",
       "    </tr>\n",
       "    <tr>\n",
       "      <th>3</th>\n",
       "      <td>249.999829</td>\n",
       "      <td>83.407150</td>\n",
       "      <td>0.259830</td>\n",
       "      <td>0.293994</td>\n",
       "      <td>0.094073</td>\n",
       "      <td>-0.267192</td>\n",
       "      <td>-0.539620</td>\n",
       "      <td>-1.232441</td>\n",
       "      <td>0.111960</td>\n",
       "      <td>0.690742</td>\n",
       "      <td>...</td>\n",
       "      <td>1.0</td>\n",
       "      <td>0.050867</td>\n",
       "      <td>0.012181</td>\n",
       "      <td>0.001511</td>\n",
       "      <td>0.0</td>\n",
       "      <td>0.0</td>\n",
       "      <td>0.0</td>\n",
       "      <td>0.996015</td>\n",
       "      <td>0.0</td>\n",
       "      <td>-5.745399e+05</td>\n",
       "    </tr>\n",
       "    <tr>\n",
       "      <th>4</th>\n",
       "      <td>250.000586</td>\n",
       "      <td>97.160702</td>\n",
       "      <td>0.180348</td>\n",
       "      <td>0.185114</td>\n",
       "      <td>0.083570</td>\n",
       "      <td>-0.096237</td>\n",
       "      <td>-0.435690</td>\n",
       "      <td>-1.472035</td>\n",
       "      <td>0.178845</td>\n",
       "      <td>0.781362</td>\n",
       "      <td>...</td>\n",
       "      <td>1.0</td>\n",
       "      <td>0.064194</td>\n",
       "      <td>0.040646</td>\n",
       "      <td>0.010912</td>\n",
       "      <td>0.0</td>\n",
       "      <td>0.0</td>\n",
       "      <td>0.0</td>\n",
       "      <td>0.996018</td>\n",
       "      <td>0.0</td>\n",
       "      <td>-1.828466e+06</td>\n",
       "    </tr>\n",
       "  </tbody>\n",
       "</table>\n",
       "<p>5 rows × 757 columns</p>\n",
       "</div>"
      ],
      "text/plain": [
       "variable  dim_0__abs_energy  dim_0__absolute_sum_of_changes  \\\n",
       "0                249.999359                      100.008588   \n",
       "1                250.000137                       74.267442   \n",
       "2                249.999836                       77.691848   \n",
       "3                249.999829                       83.407150   \n",
       "4                250.000586                       97.160702   \n",
       "\n",
       "variable  dim_0__agg_autocorrelation__f_agg_\"mean\"__maxlag_40  \\\n",
       "0                                                  0.166741     \n",
       "1                                                  0.377671     \n",
       "2                                                  0.319336     \n",
       "3                                                  0.259830     \n",
       "4                                                  0.180348     \n",
       "\n",
       "variable  dim_0__agg_autocorrelation__f_agg_\"median\"__maxlag_40  \\\n",
       "0                                                  0.109416       \n",
       "1                                                  0.444606       \n",
       "2                                                  0.359802       \n",
       "3                                                  0.293994       \n",
       "4                                                  0.185114       \n",
       "\n",
       "variable  dim_0__agg_autocorrelation__f_agg_\"var\"__maxlag_40  \\\n",
       "0                                                  0.066250    \n",
       "1                                                  0.092169    \n",
       "2                                                  0.082387    \n",
       "3                                                  0.094073    \n",
       "4                                                  0.083570    \n",
       "\n",
       "variable  dim_0__agg_linear_trend__attr_\"intercept\"__chunk_len_10__f_agg_\"max\"  \\\n",
       "0                                                  0.442363                      \n",
       "1                                                 -0.226793                      \n",
       "2                                                 -0.355620                      \n",
       "3                                                 -0.267192                      \n",
       "4                                                 -0.096237                      \n",
       "\n",
       "variable  dim_0__agg_linear_trend__attr_\"intercept\"__chunk_len_10__f_agg_\"mean\"  \\\n",
       "0                                                 -0.117070                       \n",
       "1                                                 -0.669387                       \n",
       "2                                                 -0.623975                       \n",
       "3                                                 -0.539620                       \n",
       "4                                                 -0.435690                       \n",
       "\n",
       "variable  dim_0__agg_linear_trend__attr_\"intercept\"__chunk_len_10__f_agg_\"min\"  \\\n",
       "0                                                 -1.566576                      \n",
       "1                                                 -1.186474                      \n",
       "2                                                 -1.075446                      \n",
       "3                                                 -1.232441                      \n",
       "4                                                 -1.472035                      \n",
       "\n",
       "variable  dim_0__agg_linear_trend__attr_\"intercept\"__chunk_len_10__f_agg_\"var\"  \\\n",
       "0                                                  0.370308                      \n",
       "1                                                  0.095314                      \n",
       "2                                                  0.080361                      \n",
       "3                                                  0.111960                      \n",
       "4                                                  0.178845                      \n",
       "\n",
       "variable  dim_0__agg_linear_trend__attr_\"intercept\"__chunk_len_50__f_agg_\"max\"  \\\n",
       "0                                                  1.481666                      \n",
       "1                                                  0.709578                      \n",
       "2                                                  0.643640                      \n",
       "3                                                  0.690742                      \n",
       "4                                                  0.781362                      \n",
       "\n",
       "variable  ...  dim_0__symmetry_looking__r_0.9500000000000001  \\\n",
       "0         ...                                            1.0   \n",
       "1         ...                                            1.0   \n",
       "2         ...                                            1.0   \n",
       "3         ...                                            1.0   \n",
       "4         ...                                            1.0   \n",
       "\n",
       "variable  dim_0__time_reversal_asymmetry_statistic__lag_1  \\\n",
       "0                                                0.065662   \n",
       "1                                                0.027791   \n",
       "2                                                0.048628   \n",
       "3                                                0.050867   \n",
       "4                                                0.064194   \n",
       "\n",
       "variable  dim_0__time_reversal_asymmetry_statistic__lag_2  \\\n",
       "0                                                0.024915   \n",
       "1                                                0.004080   \n",
       "2                                                0.007067   \n",
       "3                                                0.012181   \n",
       "4                                                0.040646   \n",
       "\n",
       "variable  dim_0__time_reversal_asymmetry_statistic__lag_3  \\\n",
       "0                                                0.002205   \n",
       "1                                               -0.010069   \n",
       "2                                               -0.012443   \n",
       "3                                                0.001511   \n",
       "4                                                0.010912   \n",
       "\n",
       "variable  dim_0__value_count__value_-1  dim_0__value_count__value_0  \\\n",
       "0                                  0.0                          0.0   \n",
       "1                                  0.0                          0.0   \n",
       "2                                  0.0                          0.0   \n",
       "3                                  0.0                          0.0   \n",
       "4                                  0.0                          0.0   \n",
       "\n",
       "variable  dim_0__value_count__value_1  dim_0__variance  \\\n",
       "0                                 0.0         0.996013   \n",
       "1                                 0.0         0.996016   \n",
       "2                                 0.0         0.996015   \n",
       "3                                 0.0         0.996015   \n",
       "4                                 0.0         0.996018   \n",
       "\n",
       "variable  dim_0__variance_larger_than_standard_deviation  \\\n",
       "0                                                    0.0   \n",
       "1                                                    0.0   \n",
       "2                                                    0.0   \n",
       "3                                                    0.0   \n",
       "4                                                    0.0   \n",
       "\n",
       "variable  dim_0__variation_coefficient  \n",
       "0                        -4.106544e+06  \n",
       "1                         1.278059e+06  \n",
       "2                         6.919873e+05  \n",
       "3                        -5.745399e+05  \n",
       "4                        -1.828466e+06  \n",
       "\n",
       "[5 rows x 757 columns]"
      ]
     },
     "execution_count": 6,
     "metadata": {},
     "output_type": "execute_result"
    }
   ],
   "source": [
    "# tf = TsFreshTransfomer()\n",
    "t = TSFreshFeatureExtractor(default_fc_parameters=\"efficient\", show_warnings=False)\n",
    "Xt = t.fit_transform(X_train)\n",
    "Xt.head()"
   ]
  },
  {
   "cell_type": "markdown",
   "metadata": {},
   "source": [
    "## Using tsfresh with sktime"
   ]
  },
  {
   "cell_type": "code",
   "execution_count": 7,
   "metadata": {},
   "outputs": [
    {
     "name": "stderr",
     "output_type": "stream",
     "text": [
      "/Users/travis/build/alan-turing-institute/sktime/sktime/transformers/series_as_features/summarize/_tsfresh.py:150: UserWarning: Found non-unique index, replaced with unique index.\n",
      "  warn(\"Found non-unique index, replaced with unique index.\")\n"
     ]
    },
    {
     "name": "stderr",
     "output_type": "stream",
     "text": [
      "\r",
      "Feature Extraction:   0%|          | 0/5 [00:00<?, ?it/s]"
     ]
    },
    {
     "name": "stderr",
     "output_type": "stream",
     "text": [
      "\r",
      "Feature Extraction:  20%|██        | 1/5 [00:05<00:20,  5.18s/it]"
     ]
    },
    {
     "name": "stderr",
     "output_type": "stream",
     "text": [
      "\r",
      "Feature Extraction:  40%|████      | 2/5 [00:09<00:15,  5.07s/it]"
     ]
    },
    {
     "name": "stderr",
     "output_type": "stream",
     "text": [
      "\r",
      "Feature Extraction:  60%|██████    | 3/5 [00:14<00:09,  4.89s/it]"
     ]
    },
    {
     "name": "stderr",
     "output_type": "stream",
     "text": [
      "\r",
      "Feature Extraction:  80%|████████  | 4/5 [00:18<00:04,  4.77s/it]"
     ]
    },
    {
     "name": "stderr",
     "output_type": "stream",
     "text": [
      "\r",
      "Feature Extraction: 100%|██████████| 5/5 [00:23<00:00,  4.59s/it]"
     ]
    },
    {
     "name": "stderr",
     "output_type": "stream",
     "text": [
      "\r",
      "Feature Extraction: 100%|██████████| 5/5 [00:23<00:00,  4.63s/it]"
     ]
    },
    {
     "name": "stderr",
     "output_type": "stream",
     "text": [
      "\n"
     ]
    },
    {
     "name": "stderr",
     "output_type": "stream",
     "text": [
      "/Users/travis/build/alan-turing-institute/sktime/sktime/transformers/series_as_features/summarize/_tsfresh.py:150: UserWarning: Found non-unique index, replaced with unique index.\n",
      "  warn(\"Found non-unique index, replaced with unique index.\")\n"
     ]
    },
    {
     "name": "stderr",
     "output_type": "stream",
     "text": [
      "\r",
      "Feature Extraction:   0%|          | 0/5 [00:00<?, ?it/s]"
     ]
    },
    {
     "name": "stderr",
     "output_type": "stream",
     "text": [
      "\r",
      "Feature Extraction:  20%|██        | 1/5 [00:01<00:06,  1.60s/it]"
     ]
    },
    {
     "name": "stderr",
     "output_type": "stream",
     "text": [
      "\r",
      "Feature Extraction:  40%|████      | 2/5 [00:03<00:04,  1.58s/it]"
     ]
    },
    {
     "name": "stderr",
     "output_type": "stream",
     "text": [
      "\r",
      "Feature Extraction:  60%|██████    | 3/5 [00:04<00:03,  1.56s/it]"
     ]
    },
    {
     "name": "stderr",
     "output_type": "stream",
     "text": [
      "\r",
      "Feature Extraction:  80%|████████  | 4/5 [00:06<00:01,  1.55s/it]"
     ]
    },
    {
     "name": "stderr",
     "output_type": "stream",
     "text": [
      "\r",
      "Feature Extraction: 100%|██████████| 5/5 [00:07<00:00,  1.46s/it]"
     ]
    },
    {
     "name": "stderr",
     "output_type": "stream",
     "text": [
      "\r",
      "Feature Extraction: 100%|██████████| 5/5 [00:07<00:00,  1.48s/it]"
     ]
    },
    {
     "name": "stderr",
     "output_type": "stream",
     "text": [
      "\n"
     ]
    },
    {
     "data": {
      "text/plain": [
       "0.8867924528301887"
      ]
     },
     "execution_count": 7,
     "metadata": {},
     "output_type": "execute_result"
    }
   ],
   "source": [
    "classifier = make_pipeline(\n",
    "    TSFreshFeatureExtractor(default_fc_parameters=\"efficient\", show_warnings=False),\n",
    "    RandomForestClassifier()\n",
    ")\n",
    "classifier.fit(X_train, y_train)\n",
    "classifier.score(X_test, y_test)"
   ]
  },
  {
   "cell_type": "markdown",
   "metadata": {},
   "source": [
    "## Multivariate time series classification data"
   ]
  },
  {
   "cell_type": "code",
   "execution_count": 8,
   "metadata": {
    "scrolled": true
   },
   "outputs": [
    {
     "name": "stdout",
     "output_type": "stream",
     "text": [
      "(60, 6) (60,) (20, 6) (20,)\n"
     ]
    }
   ],
   "source": [
    "X, y = load_basic_motions(return_X_y=True)\n",
    "X_train, X_test, y_train, y_test = train_test_split(X, y)\n",
    "print(X_train.shape, y_train.shape, X_test.shape, y_test.shape)"
   ]
  },
  {
   "cell_type": "code",
   "execution_count": 9,
   "metadata": {
    "jupyter": {
     "outputs_hidden": false
    },
    "pycharm": {
     "name": "#%%\n"
    }
   },
   "outputs": [
    {
     "data": {
      "text/html": [
       "<div>\n",
       "<style scoped>\n",
       "    .dataframe tbody tr th:only-of-type {\n",
       "        vertical-align: middle;\n",
       "    }\n",
       "\n",
       "    .dataframe tbody tr th {\n",
       "        vertical-align: top;\n",
       "    }\n",
       "\n",
       "    .dataframe thead th {\n",
       "        text-align: right;\n",
       "    }\n",
       "</style>\n",
       "<table border=\"1\" class=\"dataframe\">\n",
       "  <thead>\n",
       "    <tr style=\"text-align: right;\">\n",
       "      <th></th>\n",
       "      <th>dim_0</th>\n",
       "      <th>dim_1</th>\n",
       "      <th>dim_2</th>\n",
       "      <th>dim_3</th>\n",
       "      <th>dim_4</th>\n",
       "      <th>dim_5</th>\n",
       "    </tr>\n",
       "  </thead>\n",
       "  <tbody>\n",
       "    <tr>\n",
       "      <th>33</th>\n",
       "      <td>0    -0.166323\n",
       "1    -0.166323\n",
       "2    -0.227300\n",
       "3...</td>\n",
       "      <td>0     0.768712\n",
       "1     0.768712\n",
       "2    -0.677960\n",
       "3...</td>\n",
       "      <td>0     -0.344511\n",
       "1     -0.344511\n",
       "2     -1.58804...</td>\n",
       "      <td>0     0.218397\n",
       "1     0.218397\n",
       "2     2.141352\n",
       "3...</td>\n",
       "      <td>0     0.135832\n",
       "1     0.135832\n",
       "2     0.250357\n",
       "3...</td>\n",
       "      <td>0     0.162466\n",
       "1     0.162466\n",
       "2     1.808430\n",
       "3...</td>\n",
       "    </tr>\n",
       "    <tr>\n",
       "      <th>20</th>\n",
       "      <td>0    -0.294498\n",
       "1    -0.294498\n",
       "2    -0.050044\n",
       "3...</td>\n",
       "      <td>0     0.540218\n",
       "1     0.540218\n",
       "2    -0.515245\n",
       "3...</td>\n",
       "      <td>0     0.218114\n",
       "1     0.218114\n",
       "2    -0.301108\n",
       "3...</td>\n",
       "      <td>0    -0.045277\n",
       "1    -0.045277\n",
       "2     0.103872\n",
       "3...</td>\n",
       "      <td>0    -0.002663\n",
       "1    -0.002663\n",
       "2    -0.183773\n",
       "3...</td>\n",
       "      <td>0     0.031960\n",
       "1     0.031960\n",
       "2     0.037287\n",
       "3...</td>\n",
       "    </tr>\n",
       "    <tr>\n",
       "      <th>35</th>\n",
       "      <td>0    -0.040961\n",
       "1    -0.040961\n",
       "2     0.338414\n",
       "3...</td>\n",
       "      <td>0    -0.971100\n",
       "1    -0.971100\n",
       "2    -3.420216\n",
       "3...</td>\n",
       "      <td>0     0.203560\n",
       "1     0.203560\n",
       "2    -2.053446\n",
       "3...</td>\n",
       "      <td>0     0.061258\n",
       "1     0.061258\n",
       "2     0.250357\n",
       "3...</td>\n",
       "      <td>0    -0.047941\n",
       "1    -0.047941\n",
       "2    -0.639209\n",
       "3...</td>\n",
       "      <td>0     0.961478\n",
       "1     0.961478\n",
       "2    -0.298298\n",
       "3...</td>\n",
       "    </tr>\n",
       "    <tr>\n",
       "      <th>31</th>\n",
       "      <td>0      0.130669\n",
       "1      0.130669\n",
       "2      0.06882...</td>\n",
       "      <td>0     -0.119724\n",
       "1     -0.119724\n",
       "2     -4.08360...</td>\n",
       "      <td>0     -1.019916\n",
       "1     -1.019916\n",
       "2      5.39025...</td>\n",
       "      <td>0     0.684487\n",
       "1     0.684487\n",
       "2     0.394179\n",
       "3...</td>\n",
       "      <td>0     0.290308\n",
       "1     0.290308\n",
       "2     0.617902\n",
       "3...</td>\n",
       "      <td>0     0.679160\n",
       "1     0.679160\n",
       "2     1.595360\n",
       "3...</td>\n",
       "    </tr>\n",
       "    <tr>\n",
       "      <th>24</th>\n",
       "      <td>0     0.279069\n",
       "1     0.279069\n",
       "2     0.707552\n",
       "3...</td>\n",
       "      <td>0    -0.110199\n",
       "1    -0.110199\n",
       "2    -0.031651\n",
       "3...</td>\n",
       "      <td>0     0.142979\n",
       "1     0.142979\n",
       "2     0.919129\n",
       "3...</td>\n",
       "      <td>0    -0.026634\n",
       "1    -0.026634\n",
       "2    -0.631219\n",
       "3...</td>\n",
       "      <td>0    -0.010653\n",
       "1    -0.010653\n",
       "2     0.290308\n",
       "3...</td>\n",
       "      <td>0     0.077238\n",
       "1     0.077238\n",
       "2     0.122515\n",
       "3...</td>\n",
       "    </tr>\n",
       "  </tbody>\n",
       "</table>\n",
       "</div>"
      ],
      "text/plain": [
       "                                                dim_0  \\\n",
       "33  0    -0.166323\n",
       "1    -0.166323\n",
       "2    -0.227300\n",
       "3...   \n",
       "20  0    -0.294498\n",
       "1    -0.294498\n",
       "2    -0.050044\n",
       "3...   \n",
       "35  0    -0.040961\n",
       "1    -0.040961\n",
       "2     0.338414\n",
       "3...   \n",
       "31  0      0.130669\n",
       "1      0.130669\n",
       "2      0.06882...   \n",
       "24  0     0.279069\n",
       "1     0.279069\n",
       "2     0.707552\n",
       "3...   \n",
       "\n",
       "                                                dim_1  \\\n",
       "33  0     0.768712\n",
       "1     0.768712\n",
       "2    -0.677960\n",
       "3...   \n",
       "20  0     0.540218\n",
       "1     0.540218\n",
       "2    -0.515245\n",
       "3...   \n",
       "35  0    -0.971100\n",
       "1    -0.971100\n",
       "2    -3.420216\n",
       "3...   \n",
       "31  0     -0.119724\n",
       "1     -0.119724\n",
       "2     -4.08360...   \n",
       "24  0    -0.110199\n",
       "1    -0.110199\n",
       "2    -0.031651\n",
       "3...   \n",
       "\n",
       "                                                dim_2  \\\n",
       "33  0     -0.344511\n",
       "1     -0.344511\n",
       "2     -1.58804...   \n",
       "20  0     0.218114\n",
       "1     0.218114\n",
       "2    -0.301108\n",
       "3...   \n",
       "35  0     0.203560\n",
       "1     0.203560\n",
       "2    -2.053446\n",
       "3...   \n",
       "31  0     -1.019916\n",
       "1     -1.019916\n",
       "2      5.39025...   \n",
       "24  0     0.142979\n",
       "1     0.142979\n",
       "2     0.919129\n",
       "3...   \n",
       "\n",
       "                                                dim_3  \\\n",
       "33  0     0.218397\n",
       "1     0.218397\n",
       "2     2.141352\n",
       "3...   \n",
       "20  0    -0.045277\n",
       "1    -0.045277\n",
       "2     0.103872\n",
       "3...   \n",
       "35  0     0.061258\n",
       "1     0.061258\n",
       "2     0.250357\n",
       "3...   \n",
       "31  0     0.684487\n",
       "1     0.684487\n",
       "2     0.394179\n",
       "3...   \n",
       "24  0    -0.026634\n",
       "1    -0.026634\n",
       "2    -0.631219\n",
       "3...   \n",
       "\n",
       "                                                dim_4  \\\n",
       "33  0     0.135832\n",
       "1     0.135832\n",
       "2     0.250357\n",
       "3...   \n",
       "20  0    -0.002663\n",
       "1    -0.002663\n",
       "2    -0.183773\n",
       "3...   \n",
       "35  0    -0.047941\n",
       "1    -0.047941\n",
       "2    -0.639209\n",
       "3...   \n",
       "31  0     0.290308\n",
       "1     0.290308\n",
       "2     0.617902\n",
       "3...   \n",
       "24  0    -0.010653\n",
       "1    -0.010653\n",
       "2     0.290308\n",
       "3...   \n",
       "\n",
       "                                                dim_5  \n",
       "33  0     0.162466\n",
       "1     0.162466\n",
       "2     1.808430\n",
       "3...  \n",
       "20  0     0.031960\n",
       "1     0.031960\n",
       "2     0.037287\n",
       "3...  \n",
       "35  0     0.961478\n",
       "1     0.961478\n",
       "2    -0.298298\n",
       "3...  \n",
       "31  0     0.679160\n",
       "1     0.679160\n",
       "2     1.595360\n",
       "3...  \n",
       "24  0     0.077238\n",
       "1     0.077238\n",
       "2     0.122515\n",
       "3...  "
      ]
     },
     "execution_count": 9,
     "metadata": {},
     "output_type": "execute_result"
    }
   ],
   "source": [
    "# multivariate input data\n",
    "X_train.head()"
   ]
  },
  {
   "cell_type": "code",
   "execution_count": 10,
   "metadata": {
    "scrolled": true
   },
   "outputs": [
    {
     "name": "stderr",
     "output_type": "stream",
     "text": [
      "/Users/travis/build/alan-turing-institute/sktime/sktime/transformers/series_as_features/summarize/_tsfresh.py:150: UserWarning: Found non-unique index, replaced with unique index.\n",
      "  warn(\"Found non-unique index, replaced with unique index.\")\n"
     ]
    },
    {
     "name": "stderr",
     "output_type": "stream",
     "text": [
      "\r",
      "Feature Extraction:   0%|          | 0/5 [00:00<?, ?it/s]"
     ]
    },
    {
     "name": "stderr",
     "output_type": "stream",
     "text": [
      "\r",
      "Feature Extraction:  20%|██        | 1/5 [00:07<00:31,  7.93s/it]"
     ]
    },
    {
     "name": "stderr",
     "output_type": "stream",
     "text": [
      "\r",
      "Feature Extraction:  40%|████      | 2/5 [00:15<00:23,  7.86s/it]"
     ]
    },
    {
     "name": "stderr",
     "output_type": "stream",
     "text": [
      "\r",
      "Feature Extraction:  60%|██████    | 3/5 [00:23<00:15,  7.80s/it]"
     ]
    },
    {
     "name": "stderr",
     "output_type": "stream",
     "text": [
      "\r",
      "Feature Extraction:  80%|████████  | 4/5 [00:30<00:07,  7.76s/it]"
     ]
    },
    {
     "name": "stderr",
     "output_type": "stream",
     "text": [
      "\r",
      "Feature Extraction: 100%|██████████| 5/5 [00:38<00:00,  7.74s/it]"
     ]
    },
    {
     "name": "stderr",
     "output_type": "stream",
     "text": [
      "\r",
      "Feature Extraction: 100%|██████████| 5/5 [00:38<00:00,  7.73s/it]"
     ]
    },
    {
     "name": "stderr",
     "output_type": "stream",
     "text": [
      "\n"
     ]
    },
    {
     "data": {
      "text/html": [
       "<div>\n",
       "<style scoped>\n",
       "    .dataframe tbody tr th:only-of-type {\n",
       "        vertical-align: middle;\n",
       "    }\n",
       "\n",
       "    .dataframe tbody tr th {\n",
       "        vertical-align: top;\n",
       "    }\n",
       "\n",
       "    .dataframe thead th {\n",
       "        text-align: right;\n",
       "    }\n",
       "</style>\n",
       "<table border=\"1\" class=\"dataframe\">\n",
       "  <thead>\n",
       "    <tr style=\"text-align: right;\">\n",
       "      <th>variable</th>\n",
       "      <th>dim_0__abs_energy</th>\n",
       "      <th>dim_0__absolute_sum_of_changes</th>\n",
       "      <th>dim_0__agg_autocorrelation__f_agg_\"mean\"__maxlag_40</th>\n",
       "      <th>dim_0__agg_autocorrelation__f_agg_\"median\"__maxlag_40</th>\n",
       "      <th>dim_0__agg_autocorrelation__f_agg_\"var\"__maxlag_40</th>\n",
       "      <th>dim_0__agg_linear_trend__attr_\"intercept\"__chunk_len_10__f_agg_\"max\"</th>\n",
       "      <th>dim_0__agg_linear_trend__attr_\"intercept\"__chunk_len_10__f_agg_\"mean\"</th>\n",
       "      <th>dim_0__agg_linear_trend__attr_\"intercept\"__chunk_len_10__f_agg_\"min\"</th>\n",
       "      <th>dim_0__agg_linear_trend__attr_\"intercept\"__chunk_len_10__f_agg_\"var\"</th>\n",
       "      <th>dim_0__agg_linear_trend__attr_\"intercept\"__chunk_len_50__f_agg_\"max\"</th>\n",
       "      <th>...</th>\n",
       "      <th>dim_5__symmetry_looking__r_0.9500000000000001</th>\n",
       "      <th>dim_5__time_reversal_asymmetry_statistic__lag_1</th>\n",
       "      <th>dim_5__time_reversal_asymmetry_statistic__lag_2</th>\n",
       "      <th>dim_5__time_reversal_asymmetry_statistic__lag_3</th>\n",
       "      <th>dim_5__value_count__value_-1</th>\n",
       "      <th>dim_5__value_count__value_0</th>\n",
       "      <th>dim_5__value_count__value_1</th>\n",
       "      <th>dim_5__variance</th>\n",
       "      <th>dim_5__variance_larger_than_standard_deviation</th>\n",
       "      <th>dim_5__variation_coefficient</th>\n",
       "    </tr>\n",
       "  </thead>\n",
       "  <tbody>\n",
       "    <tr>\n",
       "      <th>0</th>\n",
       "      <td>10991.779448</td>\n",
       "      <td>555.675893</td>\n",
       "      <td>-0.000122</td>\n",
       "      <td>-0.039183</td>\n",
       "      <td>0.035843</td>\n",
       "      <td>23.558182</td>\n",
       "      <td>5.495269</td>\n",
       "      <td>-2.170360</td>\n",
       "      <td>58.349987</td>\n",
       "      <td>29.126005</td>\n",
       "      <td>...</td>\n",
       "      <td>1.0</td>\n",
       "      <td>36.630331</td>\n",
       "      <td>20.753415</td>\n",
       "      <td>-28.497307</td>\n",
       "      <td>0.0</td>\n",
       "      <td>0.0</td>\n",
       "      <td>0.0</td>\n",
       "      <td>30.200014</td>\n",
       "      <td>1.0</td>\n",
       "      <td>-14.681544</td>\n",
       "    </tr>\n",
       "    <tr>\n",
       "      <th>1</th>\n",
       "      <td>110.735119</td>\n",
       "      <td>85.854825</td>\n",
       "      <td>-0.018927</td>\n",
       "      <td>-0.035650</td>\n",
       "      <td>0.027377</td>\n",
       "      <td>2.309696</td>\n",
       "      <td>0.354539</td>\n",
       "      <td>-0.770196</td>\n",
       "      <td>0.975286</td>\n",
       "      <td>3.041947</td>\n",
       "      <td>...</td>\n",
       "      <td>1.0</td>\n",
       "      <td>-0.025912</td>\n",
       "      <td>0.047528</td>\n",
       "      <td>0.317551</td>\n",
       "      <td>0.0</td>\n",
       "      <td>0.0</td>\n",
       "      <td>0.0</td>\n",
       "      <td>1.089646</td>\n",
       "      <td>1.0</td>\n",
       "      <td>184.873936</td>\n",
       "    </tr>\n",
       "    <tr>\n",
       "      <th>2</th>\n",
       "      <td>6681.979256</td>\n",
       "      <td>441.093167</td>\n",
       "      <td>-0.003917</td>\n",
       "      <td>-0.024874</td>\n",
       "      <td>0.021016</td>\n",
       "      <td>18.693258</td>\n",
       "      <td>6.340561</td>\n",
       "      <td>0.353609</td>\n",
       "      <td>41.466413</td>\n",
       "      <td>29.321178</td>\n",
       "      <td>...</td>\n",
       "      <td>1.0</td>\n",
       "      <td>-28.438658</td>\n",
       "      <td>3.340718</td>\n",
       "      <td>15.100302</td>\n",
       "      <td>0.0</td>\n",
       "      <td>0.0</td>\n",
       "      <td>0.0</td>\n",
       "      <td>12.710682</td>\n",
       "      <td>1.0</td>\n",
       "      <td>31.065326</td>\n",
       "    </tr>\n",
       "    <tr>\n",
       "      <th>3</th>\n",
       "      <td>7638.280878</td>\n",
       "      <td>494.592749</td>\n",
       "      <td>-0.037506</td>\n",
       "      <td>-0.046871</td>\n",
       "      <td>0.015511</td>\n",
       "      <td>13.940877</td>\n",
       "      <td>5.248257</td>\n",
       "      <td>-0.141364</td>\n",
       "      <td>21.789600</td>\n",
       "      <td>27.207380</td>\n",
       "      <td>...</td>\n",
       "      <td>1.0</td>\n",
       "      <td>-11.139032</td>\n",
       "      <td>8.109147</td>\n",
       "      <td>-0.337394</td>\n",
       "      <td>0.0</td>\n",
       "      <td>0.0</td>\n",
       "      <td>0.0</td>\n",
       "      <td>13.456041</td>\n",
       "      <td>1.0</td>\n",
       "      <td>-11.257922</td>\n",
       "    </tr>\n",
       "    <tr>\n",
       "      <th>4</th>\n",
       "      <td>344.052224</td>\n",
       "      <td>119.475536</td>\n",
       "      <td>0.002197</td>\n",
       "      <td>0.007196</td>\n",
       "      <td>0.058980</td>\n",
       "      <td>2.568986</td>\n",
       "      <td>0.562201</td>\n",
       "      <td>-1.055251</td>\n",
       "      <td>1.247625</td>\n",
       "      <td>3.955685</td>\n",
       "      <td>...</td>\n",
       "      <td>1.0</td>\n",
       "      <td>0.016007</td>\n",
       "      <td>0.265807</td>\n",
       "      <td>0.968304</td>\n",
       "      <td>0.0</td>\n",
       "      <td>0.0</td>\n",
       "      <td>0.0</td>\n",
       "      <td>2.364335</td>\n",
       "      <td>1.0</td>\n",
       "      <td>-27.716209</td>\n",
       "    </tr>\n",
       "  </tbody>\n",
       "</table>\n",
       "<p>5 rows × 4542 columns</p>\n",
       "</div>"
      ],
      "text/plain": [
       "variable  dim_0__abs_energy  dim_0__absolute_sum_of_changes  \\\n",
       "0              10991.779448                      555.675893   \n",
       "1                110.735119                       85.854825   \n",
       "2               6681.979256                      441.093167   \n",
       "3               7638.280878                      494.592749   \n",
       "4                344.052224                      119.475536   \n",
       "\n",
       "variable  dim_0__agg_autocorrelation__f_agg_\"mean\"__maxlag_40  \\\n",
       "0                                                 -0.000122     \n",
       "1                                                 -0.018927     \n",
       "2                                                 -0.003917     \n",
       "3                                                 -0.037506     \n",
       "4                                                  0.002197     \n",
       "\n",
       "variable  dim_0__agg_autocorrelation__f_agg_\"median\"__maxlag_40  \\\n",
       "0                                                 -0.039183       \n",
       "1                                                 -0.035650       \n",
       "2                                                 -0.024874       \n",
       "3                                                 -0.046871       \n",
       "4                                                  0.007196       \n",
       "\n",
       "variable  dim_0__agg_autocorrelation__f_agg_\"var\"__maxlag_40  \\\n",
       "0                                                  0.035843    \n",
       "1                                                  0.027377    \n",
       "2                                                  0.021016    \n",
       "3                                                  0.015511    \n",
       "4                                                  0.058980    \n",
       "\n",
       "variable  dim_0__agg_linear_trend__attr_\"intercept\"__chunk_len_10__f_agg_\"max\"  \\\n",
       "0                                                 23.558182                      \n",
       "1                                                  2.309696                      \n",
       "2                                                 18.693258                      \n",
       "3                                                 13.940877                      \n",
       "4                                                  2.568986                      \n",
       "\n",
       "variable  dim_0__agg_linear_trend__attr_\"intercept\"__chunk_len_10__f_agg_\"mean\"  \\\n",
       "0                                                  5.495269                       \n",
       "1                                                  0.354539                       \n",
       "2                                                  6.340561                       \n",
       "3                                                  5.248257                       \n",
       "4                                                  0.562201                       \n",
       "\n",
       "variable  dim_0__agg_linear_trend__attr_\"intercept\"__chunk_len_10__f_agg_\"min\"  \\\n",
       "0                                                 -2.170360                      \n",
       "1                                                 -0.770196                      \n",
       "2                                                  0.353609                      \n",
       "3                                                 -0.141364                      \n",
       "4                                                 -1.055251                      \n",
       "\n",
       "variable  dim_0__agg_linear_trend__attr_\"intercept\"__chunk_len_10__f_agg_\"var\"  \\\n",
       "0                                                 58.349987                      \n",
       "1                                                  0.975286                      \n",
       "2                                                 41.466413                      \n",
       "3                                                 21.789600                      \n",
       "4                                                  1.247625                      \n",
       "\n",
       "variable  dim_0__agg_linear_trend__attr_\"intercept\"__chunk_len_50__f_agg_\"max\"  \\\n",
       "0                                                 29.126005                      \n",
       "1                                                  3.041947                      \n",
       "2                                                 29.321178                      \n",
       "3                                                 27.207380                      \n",
       "4                                                  3.955685                      \n",
       "\n",
       "variable  ...  dim_5__symmetry_looking__r_0.9500000000000001  \\\n",
       "0         ...                                            1.0   \n",
       "1         ...                                            1.0   \n",
       "2         ...                                            1.0   \n",
       "3         ...                                            1.0   \n",
       "4         ...                                            1.0   \n",
       "\n",
       "variable  dim_5__time_reversal_asymmetry_statistic__lag_1  \\\n",
       "0                                               36.630331   \n",
       "1                                               -0.025912   \n",
       "2                                              -28.438658   \n",
       "3                                              -11.139032   \n",
       "4                                                0.016007   \n",
       "\n",
       "variable  dim_5__time_reversal_asymmetry_statistic__lag_2  \\\n",
       "0                                               20.753415   \n",
       "1                                                0.047528   \n",
       "2                                                3.340718   \n",
       "3                                                8.109147   \n",
       "4                                                0.265807   \n",
       "\n",
       "variable  dim_5__time_reversal_asymmetry_statistic__lag_3  \\\n",
       "0                                              -28.497307   \n",
       "1                                                0.317551   \n",
       "2                                               15.100302   \n",
       "3                                               -0.337394   \n",
       "4                                                0.968304   \n",
       "\n",
       "variable  dim_5__value_count__value_-1  dim_5__value_count__value_0  \\\n",
       "0                                  0.0                          0.0   \n",
       "1                                  0.0                          0.0   \n",
       "2                                  0.0                          0.0   \n",
       "3                                  0.0                          0.0   \n",
       "4                                  0.0                          0.0   \n",
       "\n",
       "variable  dim_5__value_count__value_1  dim_5__variance  \\\n",
       "0                                 0.0        30.200014   \n",
       "1                                 0.0         1.089646   \n",
       "2                                 0.0        12.710682   \n",
       "3                                 0.0        13.456041   \n",
       "4                                 0.0         2.364335   \n",
       "\n",
       "variable  dim_5__variance_larger_than_standard_deviation  \\\n",
       "0                                                    1.0   \n",
       "1                                                    1.0   \n",
       "2                                                    1.0   \n",
       "3                                                    1.0   \n",
       "4                                                    1.0   \n",
       "\n",
       "variable  dim_5__variation_coefficient  \n",
       "0                           -14.681544  \n",
       "1                           184.873936  \n",
       "2                            31.065326  \n",
       "3                           -11.257922  \n",
       "4                           -27.716209  \n",
       "\n",
       "[5 rows x 4542 columns]"
      ]
     },
     "execution_count": 10,
     "metadata": {},
     "output_type": "execute_result"
    }
   ],
   "source": [
    "t = TSFreshFeatureExtractor(default_fc_parameters=\"efficient\", show_warnings=False)\n",
    "Xt = t.fit_transform(X_train)\n",
    "Xt.head()"
   ]
  }
 ],
 "metadata": {
  "kernelspec": {
   "display_name": "Python 3",
   "language": "python",
   "name": "python3"
  },
  "language_info": {
   "codemirror_mode": {
    "name": "ipython",
    "version": 3
   },
   "file_extension": ".py",
   "mimetype": "text/x-python",
   "name": "python",
   "nbconvert_exporter": "python",
   "pygments_lexer": "ipython3",
   "version": "3.7.7"
  }
 },
 "nbformat": 4,
 "nbformat_minor": 4
}
